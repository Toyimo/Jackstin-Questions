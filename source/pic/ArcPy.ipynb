{
 "cells": [
  {
   "cell_type": "markdown",
   "metadata": {},
   "source": [
    "# Notebook of ArcPy\n",
    "This is my learning book of ArcPy."
   ]
  },
  {
   "cell_type": "code",
   "execution_count": 1,
   "metadata": {},
   "outputs": [],
   "source": [
    "import arcpy"
   ]
  },
  {
   "cell_type": "markdown",
   "metadata": {},
   "source": [
    "### 1、图像批量裁剪功能\n",
    "用一个shp文件对多幅遥感影像进行裁剪，得到多幅影像的同一区域数据。  \n",
    "输入待裁剪的影像、shp文件和文件格式，输出裁剪完毕的影像。  \n",
    "主要函数：ExtractByMask_sa"
   ]
  },
  {
   "cell_type": "code",
   "execution_count": null,
   "metadata": {},
   "outputs": [],
   "source": [
    "arcpy.CheckOutExtension(\"spatial\")                      #权限检查\n",
    "typeall={\"TIF\":\"TIF\",\"img\":\"img\"}\n",
    "\n",
    "arcpy.env.workspace=arcpy.GetParameterAsText(0)         #定义工作空间,需将待裁剪影像放在一个目录下\n",
    "Inputfeature=arcpy.GetParameterAsText(1)                #shp文件\n",
    "OutputFile=arcpy.GetParameterAsText(2)                  #输出文件夹\n",
    "type1=arcpy.GetParameterAsText(3)                       #格式\n",
    "\n",
    "type1=typeall[type1]\n",
    "rasters=arcpy.ListRasters(\"*\",type1)                    #将文件格式为tpye的数据放入rasters中，type:要裁剪的影像格式类型\n",
    "for raster in rasters:\n",
    "    arcpy.AddMessage(raster)\n",
    "    out=OutputFile+\"\\clip_\"+raster                     #这样输出的文件保留了全称和文件格式输出的时候文件名前面加了_clip_\n",
    "    arcpy.gp.ExtractByMask_sa(raster,Inputfeature,out)\n",
    "    arcpy.AddMessage(raster+\"has done\")"
   ]
  },
  {
   "cell_type": "markdown",
   "metadata": {},
   "source": [
    "### 2、对SHP文件进行分块裁剪\n",
    "目的：对大范围内的点线数据进行剖分，形成坐标范围较小的局部SHP文件。  \n",
    "输入：待剖分的管点.shp文件，待剖分的管线.shp文件，输出文件夹；  \n",
    "输出：基于管线数据进行格网剖分后的格网SHP文件，每个格网文件夹中收纳相匹配的管点和管线SHP文件。  "
   ]
  },
  {
   "cell_type": "markdown",
   "metadata": {},
   "source": [
    "#### Step.1 定义包括裁剪框在内的相关参数"
   ]
  },
  {
   "cell_type": "code",
   "execution_count": null,
   "metadata": {},
   "outputs": [],
   "source": [
    "# List of coordinates.\n",
    "coordinates = [\n",
    "    [4331338, 478876],\n",
    "    [4333294, 478876],\n",
    "    [4333294, 481877],\n",
    "    [4331338, 481877],\n",
    "    [4331338, 478876]]\n",
    "\n",
    "# Create an array with a point object for each coordinate pair\n",
    "array = arcpy.Array([arcpy.Point(y, x) for x, y in coordinates])\n",
    "\n",
    "# Create a polygon geometry object using the array object\n",
    "boundary_area = arcpy.Polygon(array)\n",
    "boundary_line = arcpy.Polyline(array)\n",
    "\n",
    "# Set the input and output parameters\n",
    "source = 'C:/Users/Administrator/Desktop/NYJT/能源集团地下管线.gdb/热力管线'\n",
    "source_point = 'C:/Users/Administrator/Desktop/NYJT/能源集团地下管线.gdb/热力管点'\n",
    "clip_out = 'C:/Users/Administrator/Desktop/NYJT/Backup/experiment/output.gdb/热力管线_clipped'\n",
    "clip_out_point = 'C:/Users/Administrator/Desktop/NYJT/Backup/experiment/output.gdb/热力管点_clipped'"
   ]
  },
  {
   "cell_type": "markdown",
   "metadata": {},
   "source": [
    "#### Step.2 根据裁剪框执行裁剪"
   ]
  },
  {
   "cell_type": "code",
   "execution_count": null,
   "metadata": {
    "scrolled": true
   },
   "outputs": [],
   "source": [
    "# Use the geometry to clip an input feature class\n",
    "arcpy.Clip_analysis(source, boundary_area, clip_out)\n",
    "arcpy.Clip_analysis(source_point, boundary_area, clip_out_point)"
   ]
  },
  {
   "cell_type": "markdown",
   "metadata": {},
   "source": [
    "#### Step.3 通过相交获取直线被截断处的端点并保存到文件\n",
    "输出1：裁剪后的SHP文件与Polyline的交点;  \n",
    "输出2：裁剪后的直线号"
   ]
  },
  {
   "cell_type": "code",
   "execution_count": null,
   "metadata": {},
   "outputs": [],
   "source": [
    "# Read the clip shape file \n",
    "rows = arcpy.UpdateCursor(clip_out)  # Update cursor to read the shape file\n",
    "feature = []                         # Feature array to save the intersect point\n",
    "pointID = []                          # Line ID array to save the crossed line\n",
    "count = 0                            # Count the number of intersected points\n",
    "\n",
    "# Get the intersected point of the polygon area and the shape tube file\n",
    "for row in rows:\n",
    "    line = row.getValue('SHAPE')    \n",
    "    if (not boundary_line.disjoint(line)):                    # adjust whether crossed\n",
    "        # get the interset point and convert it to PointGeometry\n",
    "        cross_point = boundary_line.intersect(line, 1)              \n",
    "        cross_point_geom = arcpy.PointGeometry(cross_point.firstPoint)\n",
    "        ID = 'TJISM' + str(count).zfill(5)  \n",
    "        \n",
    "        # calculate the distance between this point and QSD or ZZD\n",
    "        QSD_X = row.getValue('QSD_X')\n",
    "        QSD_Y = row.getValue('QSD_Y')\n",
    "        ZZD_X = row.getValue('ZZD_X')\n",
    "        ZZD_Y = row.getValue('ZZD_Y')\n",
    "        QSD = arcpy.PointGeometry(arcpy.Point(QSD_Y, QSD_X))\n",
    "        ZZD = arcpy.PointGeometry(arcpy.Point(ZZD_Y, ZZD_X))\n",
    "        QSD_cross = arcpy.PointGeometry(line.firstPoint)\n",
    "        ZZD_cross = arcpy.PointGeometry(line.lastPoint)\n",
    "        if (QSD.distanceTo(QSD_cross) > 1e-5 and QSD.distanceTo(ZZD_cross) > 1e-5):\n",
    "            row.setValue('起始点号', ID) # QSD have been cut, modify the 起始点号\n",
    "        if (ZZD.distanceTo(QSD_cross) > 1e-5 and ZZD.distanceTo(ZZD_cross) > 1e-5):\n",
    "            row.setValue('终止点号', ID) # QSD have been cut, modify the 起始点号            \n",
    "        rows.updateRow(row)\n",
    "        \n",
    "        # add PointGeometry to the output feature\n",
    "        feature.append(cross_point_geom) \n",
    "        pointID.append(ID)\n",
    "        count = count + 1\n",
    "        \n",
    "# Delete cursor and row objects to remove locks on the data\n",
    "del row\n",
    "del rows\n",
    "print(\"We got %d intersected points.\" %(count))"
   ]
  },
  {
   "cell_type": "markdown",
   "metadata": {},
   "source": [
    "#### Step.4 向裁剪后的管点文件中追加数据"
   ]
  },
  {
   "cell_type": "code",
   "execution_count": null,
   "metadata": {},
   "outputs": [],
   "source": [
    "# Create insert cursor for point table\n",
    "fields = ['SHAPE','物探点号','X','Y','特征','附属物','地面高程','井底高程','井底埋深']\n",
    "point_rows = arcpy.da.InsertCursor(clip_out_point,fields)\n",
    "i = 0\n",
    "for point in feature:\n",
    "    point_rows.insertRow((point, pointID[i],str(point.firstPoint.Y),str(point.firstPoint.X),'直通点','热力探测点',0,0,0))\n",
    "    i = i + 1\n",
    "\n",
    "# Delete cursor and row objects to remove locks on the data\n",
    "del point_rows\n",
    "print('New point features has been inserted.')"
   ]
  },
  {
   "cell_type": "markdown",
   "metadata": {},
   "source": [
    "#### [备份代码]  添加字段及属性信息"
   ]
  },
  {
   "cell_type": "code",
   "execution_count": null,
   "metadata": {},
   "outputs": [],
   "source": [
    "# Output the intersected point\n",
    "cross_out = 'C:/Users/Administrator/Desktop/NYJT/Backup/experiment/output.gdb/热力管点_added'\n",
    "arcpy.CopyFeatures_management(feature, cross_out) # 创建shp要素\n",
    "\n",
    "# Add Field to the element\n",
    "arcpy.AddField_management(cross_out,'物探点号', 'TEXT')\n",
    "arcpy.AddField_management(cross_out,'X','TEXT')\n",
    "arcpy.AddField_management(cross_out,'Y','TEXT')\n",
    "\n",
    "# Update the attribute tabel\n",
    "point_rows = arcpy.UpdateCursor(cross_out)\n",
    "i = 0\n",
    "for row in point_rows:\n",
    "    point = row.getValue('SHAPE').firstPoint\n",
    "    row.setValue('物探点号', pointID[i])\n",
    "    row.setValue('X', str(point.Y)) # 用repr函数保留更高的精度\n",
    "    row.setValue('Y', str(point.X)) # str函数可保留12位的精度\n",
    "    i = i + 1\n",
    "    point_rows.updateRow(row)\n",
    "    \n",
    "# Delete cursor and row objects to remove locks on the data\n",
    "del row\n",
    "del point_rows\n",
    "    \n",
    "# Print the result\n",
    "print('Attribute Modified is Finished!')"
   ]
  },
  {
   "cell_type": "markdown",
   "metadata": {},
   "source": [
    "#### 最终代码，形成一个通用函数"
   ]
  },
  {
   "cell_type": "code",
   "execution_count": 2,
   "metadata": {},
   "outputs": [],
   "source": [
    "# Cut the point and line shape file and reconnect the start point and end point of the line\n",
    "# Note: 1.在Line对应的Shape文件中必须手动计算其线段的起始点、终止点坐标，\n",
    "#         并需以QSD_X,QSD_Y,ZZD_X,ZZD_Y的形式进行存储；\n",
    "#       2.在管点文件中必须包含'SHAPE'、'物探点号'、'X'、'Y'、'特征'、'附属物'、\n",
    "#         '地面高程'、'井底高程'、'井底埋深'等9个字段，字段不可缺省。\n",
    "def CutShapeByArray(Array, GDBName, LineSHP, PointSHP, Output):\n",
    "    \n",
    "    # Create a polygon geometry object using the array object\n",
    "    boundary_area = arcpy.Polygon(array)\n",
    "    boundary_line = arcpy.Polyline(array)\n",
    "\n",
    "    # Set the input and output parameters\n",
    "    arcpy.CreateFileGDB_management(Output, GDBName)\n",
    "    line_clip_out = Output  + '/' + GDBName + '/热力管线'\n",
    "    point_clip_out = Output + '/' + GDBName + '/热力管点'\n",
    "    \n",
    "    # Clip the line and the point\n",
    "    arcpy.Clip_analysis(LineSHP, boundary_area, line_clip_out)\n",
    "    arcpy.Clip_analysis(PointSHP, boundary_area, point_clip_out)\n",
    "    \n",
    "    # Read the clipped shape file of line\n",
    "    line_rows = arcpy.UpdateCursor(line_clip_out)  # Update cursor to read the shape file\n",
    "    feature = []                                   # Feature array to save the intersect point\n",
    "    pointID = []                                   # Line ID array to save the crossed line\n",
    "    count = 0                                      # Count the number of intersected points\n",
    "    have_crossed_feature = False                  # Try to make sure whether there is crossed feature\n",
    "\n",
    "    # Get the intersected point of the polygon area and the shape tube file\n",
    "    for row in line_rows:\n",
    "        line = row.getValue('SHAPE')\n",
    "        if (not boundary_line.disjoint(line)): # adjust whether crossed\n",
    "            \n",
    "            # get the interset point and convert it to PointGeometry\n",
    "            cross_point = boundary_line.intersect(line, 1)              \n",
    "            cross_point_geom = arcpy.PointGeometry(cross_point.firstPoint)\n",
    "            ID = 'TJISM' + str(count).zfill(5)  \n",
    "\n",
    "            # calculate the distance between this point and QSD or ZZD\n",
    "            QSD_X = row.getValue('QSD_X')\n",
    "            QSD_Y = row.getValue('QSD_Y')\n",
    "            ZZD_X = row.getValue('ZZD_X')\n",
    "            ZZD_Y = row.getValue('ZZD_Y')\n",
    "            QSD = arcpy.PointGeometry(arcpy.Point(QSD_Y, QSD_X))\n",
    "            ZZD = arcpy.PointGeometry(arcpy.Point(ZZD_Y, ZZD_X))\n",
    "            QSD_cross = arcpy.PointGeometry(line.firstPoint)\n",
    "            ZZD_cross = arcpy.PointGeometry(line.lastPoint)\n",
    "            if (QSD.distanceTo(QSD_cross) > 1e-5 and QSD.distanceTo(ZZD_cross) > 1e-5):\n",
    "                row.setValue('起始点号', ID) # QSD have been cut, modify the 起始点号\n",
    "            if (ZZD.distanceTo(QSD_cross) > 1e-5 and ZZD.distanceTo(ZZD_cross) > 1e-5):\n",
    "                row.setValue('终止点号', ID) # QSD have been cut, modify the 起始点号 \n",
    "                \n",
    "            # Update the row of the line rows\n",
    "            line_rows.updateRow(row)\n",
    "\n",
    "            # add PointGeometry to the output feature\n",
    "            feature.append(cross_point_geom) \n",
    "            pointID.append(ID)\n",
    "            count = count + 1\n",
    "        have_crossed_feature = True\n",
    "            \n",
    "    if(not count == 0):\n",
    "        # Create insert cursor for point table\n",
    "        fields = ['SHAPE','物探点号','X','Y','特征','附属物','地面高程','井底高程','井底埋深']\n",
    "        point_rows = arcpy.da.InsertCursor(point_clip_out, fields)\n",
    "        i = 0\n",
    "        for point in feature:\n",
    "            point_rows.insertRow(\n",
    "                (point, pointID[i],str(point.firstPoint.Y),str(point.firstPoint.X),\n",
    "                 '直通点','热力探测点',0,0,0))\n",
    "            i = i + 1\n",
    "\n",
    "        # Delete cursor and row objects to remove locks on the data\n",
    "        del line_rows\n",
    "        del point_rows\n",
    "        \n",
    "    else:\n",
    "        if (have_crossed_feature):\n",
    "            with open(Output + '/Valued.txt','a+') as file:\n",
    "                file.write(GDBName + '\\n')\n",
    "    \n",
    "    # Print the result\n",
    "    print('Shape File Cut for '+ GDBName + ' is Finished!')"
   ]
  },
  {
   "cell_type": "markdown",
   "metadata": {},
   "source": [
    "### 3、计算包络矩形并由外围包括矩形计算地理分块\n",
    "理想的操作是自适应化的地理分块算法，使得：  \n",
    "[1]. 地理分块尽可能小；  \n",
    "[2]. 地理分块避免横跨直线特征密集的区域；  \n",
    "[3]. 地理分块时要避免直线恰好穿过某一点的情况；  \n",
    "[4]. 地理分块时要尽可能形成要素簇以减少不必要的分割；  \n",
    "[5]. 减小对空白区域的分块操作。"
   ]
  },
  {
   "cell_type": "markdown",
   "metadata": {},
   "source": [
    "**解决方案<2020-09-04>**  \n",
    "首先采取常规方式，计算图像包络矩形，然后构建均匀网格进行分割。"
   ]
  },
  {
   "cell_type": "code",
   "execution_count": 3,
   "metadata": {},
   "outputs": [],
   "source": [
    "# Get the extent coordinates of the shape file\n",
    "def GetExtent(Shape):\n",
    "    cursor = arcpy.da.SearchCursor(Shape, ['SHAPE@XY'])\n",
    "    XMin = 9999999999.0\n",
    "    YMin = 9999999999.0\n",
    "    XMax = -9999999999.0\n",
    "    YMax = -9999999999.0\n",
    "    for row in cursor:\n",
    "        x, y = row[0]\n",
    "        if(x < XMin):\n",
    "            XMin = x\n",
    "        if(y < YMin):\n",
    "            YMin = y\n",
    "        if(x > XMax):\n",
    "            XMax = x\n",
    "        if(y > YMax):\n",
    "            YMax = y\n",
    "    return arcpy.Extent(XMin - 1, YMin - 1, XMax + 1, YMax + 1)"
   ]
  },
  {
   "cell_type": "code",
   "execution_count": null,
   "metadata": {},
   "outputs": [],
   "source": [
    "# TOOLs: Calculate the cut area grid and output it to the file\n",
    "fc = 'C:/Users/Administrator/Desktop/NYJT/能源集团地下管线.gdb/热力管点'\n",
    "extent = GetExtent(fc)\n",
    "step = 10\n",
    "grid_width = (extent.XMax - extent.XMin) / step\n",
    "grid_height = (extent.YMax - extent.YMin) / step\n",
    "feature = []\n",
    "cross_out = 'C:/Users/Administrator/Desktop/NYJT/Backup/experiment/output.gdb/热力管点_extent'\n",
    "for i in range(0, step):\n",
    "    for j in range(0, step):\n",
    "        point_1 = arcpy.Point(extent.lowerLeft.X + i * grid_width, extent.lowerLeft.Y + j * grid_height)\n",
    "        point_2 = arcpy.Point(extent.lowerLeft.X + (i + 1) * grid_width, extent.lowerLeft.Y + j * grid_height)\n",
    "        point_3 = arcpy.Point(extent.lowerLeft.X + (i + 1) * grid_width, extent.lowerLeft.Y + (j + 1) * grid_height)\n",
    "        point_4 = arcpy.Point(extent.lowerLeft.X + i * grid_width, extent.lowerLeft.Y + (j + 1) * grid_height)\n",
    "        array = arcpy.Array([point_1, point_2, point_3, point_4])\n",
    "        rectangle = arcpy.Polygon(array)\n",
    "        feature.append(rectangle)\n",
    "arcpy.CopyFeatures_management(feature, cross_out) "
   ]
  },
  {
   "cell_type": "code",
   "execution_count": 4,
   "metadata": {},
   "outputs": [
    {
     "name": "stdout",
     "output_type": "stream",
     "text": [
      "Shape File Cut for GDB_00_00.gdb is Finished!\n",
      "Shape File Cut for GDB_00_01.gdb is Finished!\n",
      "Shape File Cut for GDB_00_02.gdb is Finished!\n",
      "Shape File Cut for GDB_00_03.gdb is Finished!\n",
      "Shape File Cut for GDB_00_04.gdb is Finished!\n",
      "Shape File Cut for GDB_00_05.gdb is Finished!\n",
      "Shape File Cut for GDB_00_06.gdb is Finished!\n",
      "Shape File Cut for GDB_00_07.gdb is Finished!\n",
      "Shape File Cut for GDB_00_08.gdb is Finished!\n",
      "Shape File Cut for GDB_00_09.gdb is Finished!\n",
      "Shape File Cut for GDB_01_00.gdb is Finished!\n",
      "Shape File Cut for GDB_01_01.gdb is Finished!\n",
      "Shape File Cut for GDB_01_02.gdb is Finished!\n",
      "Shape File Cut for GDB_01_03.gdb is Finished!\n",
      "Shape File Cut for GDB_01_04.gdb is Finished!\n",
      "Shape File Cut for GDB_01_05.gdb is Finished!\n",
      "Shape File Cut for GDB_01_06.gdb is Finished!\n",
      "Shape File Cut for GDB_01_07.gdb is Finished!\n"
     ]
    },
    {
     "ename": "SystemError",
     "evalue": "<built-in function getattr> returned NULL without setting an error",
     "output_type": "error",
     "traceback": [
      "\u001b[1;31m---------------------------------------------------------------------------\u001b[0m",
      "\u001b[1;31mSystemError\u001b[0m                               Traceback (most recent call last)",
      "\u001b[1;32m<ipython-input-4-d939a6e56913>\u001b[0m in \u001b[0;36m<module>\u001b[1;34m\u001b[0m\n\u001b[0;32m     19\u001b[0m         \u001b[0marray\u001b[0m \u001b[1;33m=\u001b[0m \u001b[0marcpy\u001b[0m\u001b[1;33m.\u001b[0m\u001b[0mArray\u001b[0m\u001b[1;33m(\u001b[0m\u001b[1;33m[\u001b[0m\u001b[0mpoint_1\u001b[0m\u001b[1;33m,\u001b[0m \u001b[0mpoint_2\u001b[0m\u001b[1;33m,\u001b[0m \u001b[0mpoint_3\u001b[0m\u001b[1;33m,\u001b[0m \u001b[0mpoint_4\u001b[0m\u001b[1;33m,\u001b[0m \u001b[0mpoint_1\u001b[0m\u001b[1;33m]\u001b[0m\u001b[1;33m)\u001b[0m\u001b[1;33m\u001b[0m\u001b[1;33m\u001b[0m\u001b[0m\n\u001b[0;32m     20\u001b[0m         \u001b[0mgdb_name\u001b[0m \u001b[1;33m=\u001b[0m \u001b[1;34m'GDB'\u001b[0m \u001b[1;33m+\u001b[0m \u001b[1;34m'_'\u001b[0m \u001b[1;33m+\u001b[0m \u001b[0mstr\u001b[0m\u001b[1;33m(\u001b[0m\u001b[0mi\u001b[0m\u001b[1;33m)\u001b[0m\u001b[1;33m.\u001b[0m\u001b[0mzfill\u001b[0m\u001b[1;33m(\u001b[0m\u001b[1;36m2\u001b[0m\u001b[1;33m)\u001b[0m \u001b[1;33m+\u001b[0m \u001b[1;34m'_'\u001b[0m \u001b[1;33m+\u001b[0m \u001b[0mstr\u001b[0m\u001b[1;33m(\u001b[0m\u001b[0mj\u001b[0m\u001b[1;33m)\u001b[0m\u001b[1;33m.\u001b[0m\u001b[0mzfill\u001b[0m\u001b[1;33m(\u001b[0m\u001b[1;36m2\u001b[0m\u001b[1;33m)\u001b[0m \u001b[1;33m+\u001b[0m \u001b[1;34m'.gdb'\u001b[0m\u001b[1;33m\u001b[0m\u001b[1;33m\u001b[0m\u001b[0m\n\u001b[1;32m---> 21\u001b[1;33m         \u001b[0mCutShapeByArray\u001b[0m\u001b[1;33m(\u001b[0m\u001b[0marray\u001b[0m\u001b[1;33m,\u001b[0m \u001b[0mgdb_name\u001b[0m\u001b[1;33m,\u001b[0m \u001b[0mline_shp\u001b[0m\u001b[1;33m,\u001b[0m \u001b[0mpoint_shp\u001b[0m\u001b[1;33m,\u001b[0m \u001b[0moutput_folder\u001b[0m\u001b[1;33m)\u001b[0m\u001b[1;33m\u001b[0m\u001b[1;33m\u001b[0m\u001b[0m\n\u001b[0m\u001b[0;32m     22\u001b[0m \u001b[1;33m\u001b[0m\u001b[0m\n\u001b[0;32m     23\u001b[0m \u001b[0mprint\u001b[0m\u001b[1;33m(\u001b[0m\u001b[1;34m'Finshed!'\u001b[0m\u001b[1;33m)\u001b[0m\u001b[1;33m\u001b[0m\u001b[1;33m\u001b[0m\u001b[0m\n",
      "\u001b[1;32m<ipython-input-2-53e0bf1e949a>\u001b[0m in \u001b[0;36mCutShapeByArray\u001b[1;34m(Array, GDBName, LineSHP, PointSHP, Output)\u001b[0m\n\u001b[0;32m     33\u001b[0m             \u001b[1;31m# get the interset point and convert it to PointGeometry\u001b[0m\u001b[1;33m\u001b[0m\u001b[1;33m\u001b[0m\u001b[1;33m\u001b[0m\u001b[0m\n\u001b[0;32m     34\u001b[0m             \u001b[0mcross_point\u001b[0m \u001b[1;33m=\u001b[0m \u001b[0mboundary_line\u001b[0m\u001b[1;33m.\u001b[0m\u001b[0mintersect\u001b[0m\u001b[1;33m(\u001b[0m\u001b[0mline\u001b[0m\u001b[1;33m,\u001b[0m \u001b[1;36m1\u001b[0m\u001b[1;33m)\u001b[0m\u001b[1;33m\u001b[0m\u001b[1;33m\u001b[0m\u001b[0m\n\u001b[1;32m---> 35\u001b[1;33m             \u001b[0mcross_point_geom\u001b[0m \u001b[1;33m=\u001b[0m \u001b[0marcpy\u001b[0m\u001b[1;33m.\u001b[0m\u001b[0mPointGeometry\u001b[0m\u001b[1;33m(\u001b[0m\u001b[0mcross_point\u001b[0m\u001b[1;33m.\u001b[0m\u001b[0mfirstPoint\u001b[0m\u001b[1;33m)\u001b[0m\u001b[1;33m\u001b[0m\u001b[1;33m\u001b[0m\u001b[0m\n\u001b[0m\u001b[0;32m     36\u001b[0m             \u001b[0mID\u001b[0m \u001b[1;33m=\u001b[0m \u001b[1;34m'TJISM'\u001b[0m \u001b[1;33m+\u001b[0m \u001b[0mstr\u001b[0m\u001b[1;33m(\u001b[0m\u001b[0mcount\u001b[0m\u001b[1;33m)\u001b[0m\u001b[1;33m.\u001b[0m\u001b[0mzfill\u001b[0m\u001b[1;33m(\u001b[0m\u001b[1;36m5\u001b[0m\u001b[1;33m)\u001b[0m\u001b[1;33m\u001b[0m\u001b[1;33m\u001b[0m\u001b[0m\n\u001b[0;32m     37\u001b[0m \u001b[1;33m\u001b[0m\u001b[0m\n",
      "\u001b[1;32mC:\\Program Files\\ArcGIS\\Pro\\Resources\\ArcPy\\arcpy\\arcobjects\\_base.py\u001b[0m in \u001b[0;36m_get\u001b[1;34m(self)\u001b[0m\n\u001b[0;32m     88\u001b[0m     \u001b[1;32mdef\u001b[0m \u001b[0m_get\u001b[0m\u001b[1;33m(\u001b[0m\u001b[0mself\u001b[0m\u001b[1;33m)\u001b[0m\u001b[1;33m:\u001b[0m\u001b[1;33m\u001b[0m\u001b[1;33m\u001b[0m\u001b[0m\n\u001b[0;32m     89\u001b[0m         \u001b[1;32mtry\u001b[0m\u001b[1;33m:\u001b[0m\u001b[1;33m\u001b[0m\u001b[1;33m\u001b[0m\u001b[0m\n\u001b[1;32m---> 90\u001b[1;33m             \u001b[1;32mreturn\u001b[0m \u001b[0mconvertArcObjectToPythonObject\u001b[0m\u001b[1;33m(\u001b[0m\u001b[0mgetattr\u001b[0m\u001b[1;33m(\u001b[0m\u001b[0mself\u001b[0m\u001b[1;33m.\u001b[0m\u001b[0m_arc_object\u001b[0m\u001b[1;33m,\u001b[0m \u001b[0mattr_name\u001b[0m\u001b[1;33m)\u001b[0m\u001b[1;33m)\u001b[0m\u001b[1;33m\u001b[0m\u001b[1;33m\u001b[0m\u001b[0m\n\u001b[0m\u001b[0;32m     91\u001b[0m         \u001b[1;32mexcept\u001b[0m \u001b[0mAttributeError\u001b[0m\u001b[1;33m:\u001b[0m\u001b[1;33m\u001b[0m\u001b[1;33m\u001b[0m\u001b[0m\n\u001b[0;32m     92\u001b[0m             \u001b[1;32mfrom\u001b[0m \u001b[0marcpy\u001b[0m \u001b[1;32mimport\u001b[0m \u001b[0mgp\u001b[0m\u001b[1;33m\u001b[0m\u001b[1;33m\u001b[0m\u001b[0m\n",
      "\u001b[1;31mSystemError\u001b[0m: <built-in function getattr> returned NULL without setting an error"
     ]
    }
   ],
   "source": [
    "# Set the line shp and point shp\n",
    "line_shp = 'C:/Users/Administrator/Desktop/NYJT/能源集团地下管线.gdb/热力管线'\n",
    "point_shp = 'C:/Users/Administrator/Desktop/NYJT/能源集团地下管线.gdb/热力管点'\n",
    "output_folder = 'C:/Users/Administrator/Desktop/experiment/test3'\n",
    "\n",
    "# Calculate the extent information of the point shp\n",
    "extent = GetExtent(point_shp)\n",
    "step = 10\n",
    "grid_width = (extent.XMax - extent.XMin) / step\n",
    "grid_height = (extent.YMax - extent.YMin) / step\n",
    "\n",
    "# Iterate the cut grid shape file\n",
    "for i in range(0, step):\n",
    "    for j in range(0, step):\n",
    "        point_1 = arcpy.Point(extent.lowerLeft.X + i * grid_width, extent.lowerLeft.Y + j * grid_height)\n",
    "        point_2 = arcpy.Point(extent.lowerLeft.X + (i + 1) * grid_width, extent.lowerLeft.Y + j * grid_height)\n",
    "        point_3 = arcpy.Point(extent.lowerLeft.X + (i + 1) * grid_width, extent.lowerLeft.Y + (j + 1) * grid_height)\n",
    "        point_4 = arcpy.Point(extent.lowerLeft.X + i * grid_width, extent.lowerLeft.Y + (j + 1) * grid_height)\n",
    "        array = arcpy.Array([point_1, point_2, point_3, point_4, point_1])\n",
    "        gdb_name = 'GDB' + '_' + str(i).zfill(2) + '_' + str(j).zfill(2) + '.gdb'\n",
    "        CutShapeByArray(array, gdb_name, line_shp, point_shp, output_folder)\n",
    "        \n",
    "print('Finshed!')"
   ]
  },
  {
   "cell_type": "code",
   "execution_count": null,
   "metadata": {},
   "outputs": [],
   "source": []
  }
 ],
 "metadata": {
  "kernelspec": {
   "display_name": "Python 3",
   "language": "python",
   "name": "python3"
  },
  "language_info": {
   "codemirror_mode": {
    "name": "ipython",
    "version": 3
   },
   "file_extension": ".py",
   "mimetype": "text/x-python",
   "name": "python",
   "nbconvert_exporter": "python",
   "pygments_lexer": "ipython3",
   "version": "3.6.10"
  }
 },
 "nbformat": 4,
 "nbformat_minor": 4
}
